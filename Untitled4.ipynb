{
 "cells": [
  {
   "cell_type": "code",
   "execution_count": 6,
   "metadata": {},
   "outputs": [
    {
     "name": "stdout",
     "output_type": "stream",
     "text": [
      "1\n",
      "6.25\n",
      "None\n"
     ]
    }
   ],
   "source": [
    "def f(x):\n",
    "    if isinstance(x,(int,float)):#判断是否为整数或小数\n",
    "        return x**2\n",
    "print(f(1))\n",
    "print(f(2.5))\n",
    "print(f('a'))"
   ]
  },
  {
   "cell_type": "code",
   "execution_count": 8,
   "metadata": {},
   "outputs": [
    {
     "name": "stdout",
     "output_type": "stream",
     "text": [
      "1 2 [3, 4, 5, 6]\n"
     ]
    }
   ],
   "source": [
    "x,y,*r=1,2,3,4,5,6\n",
    "print(x,y,r)"
   ]
  },
  {
   "cell_type": "code",
   "execution_count": 9,
   "metadata": {},
   "outputs": [
    {
     "name": "stdout",
     "output_type": "stream",
     "text": [
      "1 [2, 3, 4, 5] 6\n"
     ]
    }
   ],
   "source": [
    "x,*y,r=1,2,3,4,5,6\n",
    "print(x,y,r)"
   ]
  },
  {
   "cell_type": "code",
   "execution_count": 11,
   "metadata": {},
   "outputs": [
    {
     "name": "stdout",
     "output_type": "stream",
     "text": [
      "[0, 2] [0, 2]\n"
     ]
    }
   ],
   "source": [
    "x=y=[1,2]\n",
    "x[0]=0\n",
    "print(x,y)"
   ]
  },
  {
   "cell_type": "code",
   "execution_count": 19,
   "metadata": {},
   "outputs": [
    {
     "name": "stdout",
     "output_type": "stream",
     "text": [
      "Hi, xi\n",
      "None\n",
      "Hi, 2\n",
      "None\n"
     ]
    }
   ],
   "source": [
    "def sayhi(somebody): \n",
    "    return print(\"Hi,\",somebody)\n",
    "print(sayhi(\"xi\"))\n",
    "print(sayhi('2'))"
   ]
  },
  {
   "cell_type": "code",
   "execution_count": 21,
   "metadata": {},
   "outputs": [
    {
     "name": "stdout",
     "output_type": "stream",
     "text": [
      "3 3 0\n"
     ]
    }
   ],
   "source": [
    "def abs(a):\n",
    "    return a if a>=0 else -a\n",
    "print(abs(-3),abs(3),abs(0))"
   ]
  },
  {
   "cell_type": "markdown",
   "metadata": {},
   "source": [
    "# 画函数图像"
   ]
  },
  {
   "cell_type": "code",
   "execution_count": 26,
   "metadata": {},
   "outputs": [
    {
     "data": {
      "text/plain": [
       "[<matplotlib.lines.Line2D at 0x242385f1e10>]"
      ]
     },
     "execution_count": 26,
     "metadata": {},
     "output_type": "execute_result"
    },
    {
     "data": {
      "image/png": "[encoded data removed]",
      "text/plain": [
       "<Figure size 432x288 with 1 Axes>"
      ]
     },
     "metadata": {
      "needs_background": "light"
     },
     "output_type": "display_data"
    }
   ],
   "source": [
    "#导入工具包\n",
    "#导入numy 别名为np\n",
    "import numpy as np\n",
    "#只用到matplotlib这个包的pyplot部分（即画图功能）\n",
    "import matplotlib.pyplot as plt\n",
    "\n",
    "#生成x序列\n",
    "#在5，0之间均匀的取100个点\n",
    "x=np.linspace(0,5,100)\n",
    "#计算x对应的y的值\n",
    "y=x*x*x+1\n",
    "plt.plot(x,y)"
   ]
  },
  {
   "cell_type": "markdown",
   "metadata": {},
   "source": [
    "# 泰勒展开"
   ]
  },
  {
   "cell_type": "code",
   "execution_count": 30,
   "metadata": {},
   "outputs": [
    {
     "data": {
      "text/plain": [
       "'🙈'"
      ]
     },
     "execution_count": 30,
     "metadata": {},
     "output_type": "execute_result"
    }
   ],
   "source": [
    "import sympy as sy #取个小名\n",
    "import sympy.plotting.plot as plot\n",
    "import ipywidgets as widgets\n",
    "sy.init_printing()\n",
    "x=sy.Symbol('x')\n",
    "\n",
    "def plottaylor(n):\n",
    "    tlsin=sy.sin(x).series(n=n).remove0()\n",
    "    plot(sy.sin(x))\n",
    "    plot(tlsin)\n",
    "widgets.interact(plottaylor, n=widgets.FloatSlider(value=0,min=3,max=33,step=2))"
   ]
  },
  {
   "cell_type": "code",
   "execution_count": null,
   "metadata": {},
   "outputs": [],
   "source": [
    "import num"
   ]
  }
 ],
 "metadata": {
  "kernelspec": {
   "display_name": "Python 3",
   "language": "python",
   "name": "python3"
  },
  "language_info": {
   "codemirror_mode": {
    "name": "ipython",
    "version": 3
   },
   "file_extension": ".py",
   "mimetype": "text/x-python",
   "name": "python",
   "nbconvert_exporter": "python",
   "pygments_lexer": "ipython3",
   "version": "3.7.0"
  }
 },
 "nbformat": 4,
 "nbformat_minor": 2
}
